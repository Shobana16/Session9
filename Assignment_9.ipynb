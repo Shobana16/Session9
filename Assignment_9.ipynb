{
 "cells": [
  {
   "cell_type": "markdown",
   "metadata": {},
   "source": [
    "Task 1:"
   ]
  },
  {
   "cell_type": "markdown",
   "metadata": {},
   "source": [
    "1. You survey households in your area to find the average rent they are paying. Find the\n",
    "standard deviation from the following data:\n",
    "$1550, $1700, $900, $850, $1000, $950.\n",
    "\n",
    "\n"
   ]
  },
  {
   "cell_type": "code",
   "execution_count": 22,
   "metadata": {},
   "outputs": [
    {
     "name": "stdout",
     "output_type": "stream",
     "text": [
      "Mean(x̅) = 1158.33\n",
      "Variance (x-x̅)^2)/(n-1) = 135416.67\n",
      "Standard Deviation(σ)=sqrt(variance) = 367.99\n",
      "\n",
      "\n",
      "----- using stats ---- \n",
      "Standard Deviation for rent :  367.9900360969936\n"
     ]
    }
   ],
   "source": [
    "import statistics as stats\n",
    "import math\n",
    "\n",
    "rent = [1550, 1700, 900, 850, 1000, 950]\n",
    "\n",
    "#Step-1 Calculate the average of the given Rent Details\n",
    "rent_Mean= sum(rent)/len(rent)\n",
    "\n",
    "print(\"Mean(x̅) = %.2f\"%(rent_Mean))\n",
    "\n",
    "# Step-2 calculate the Variance\n",
    "rent_Variance= list(map(lambda x:(x-rent_Mean)**2/(len(rent)-1),rent))\n",
    "print(\"Variance (x-x̅)^2)/(n-1) = %.2f\"%(sum(rent_Variance)))\n",
    "                                            \n",
    "# Step-3 calculate the standard deviation\n",
    "\n",
    "rent_stdev= math.sqrt(sum(rent_Variance))\n",
    "print(\"Standard Deviation(σ)=sqrt(variance) = %.2f\"%(rent_stdev))\n",
    "\n",
    "\n",
    "print(\"\\n\\n----- using stats ---- \")\n",
    "sd = stats.stdev(rent)\n",
    "print(\"Standard Deviation for rent : \", sd)"
   ]
  },
  {
   "cell_type": "markdown",
   "metadata": {},
   "source": [
    "2. Find the variance for the following set of data representing trees in California (heights in\n",
    "feet):\n",
    "3, 21, 98, 203, 17, 9\n",
    "\n"
   ]
  },
  {
   "cell_type": "code",
   "execution_count": 23,
   "metadata": {},
   "outputs": [
    {
     "name": "stdout",
     "output_type": "stream",
     "text": [
      "Mean(x̅) = 58.50\n",
      "Variance (x-x̅)^2)/(n-1) = 6219.90\n",
      "\n",
      "\n",
      "----- using stats ---- \n",
      "Variance:  6219.9\n"
     ]
    }
   ],
   "source": [
    "import math\n",
    "\n",
    "height=[3, 21, 98, 203, 17, 9]\n",
    "\n",
    "#Step-1 Calculate the average of the given height Details\n",
    "height_Mean= sum(height)/len(height)\n",
    "\n",
    "print(\"Mean(x̅) = %.2f\"%(height_Mean))\n",
    "\n",
    "# Step-2 calculate the Variance\n",
    "height_Variance= list(map(lambda x:(x-height_Mean)**2/(len(height)-1),height))\n",
    "print(\"Variance (x-x̅)^2)/(n-1) = %.2f\"%(sum(height_Variance)))\n",
    "\n",
    "print(\"\\n\\n----- using stats ---- \")\n",
    "variance = stats.variance(height)\n",
    "print(\"Variance: \", variance)"
   ]
  },
  {
   "cell_type": "markdown",
   "metadata": {},
   "source": [
    "3. In a class on 100 students, 80 students passed in all subjects, 10 failed in one subject, 7 failed\n",
    "in two subjects and 3 failed in three subjects. Find the probability distribution of the variable for\n",
    "number of subjects a student from the given class has failed in.\n"
   ]
  },
  {
   "cell_type": "markdown",
   "metadata": {},
   "source": [
    "For a random student, \n",
    "\n",
    "The probability of failing in 0 subjects, P(X=0) = 0.8\n",
    "\n",
    "The probability of failing in 1 subjects, P(X=1) = 0.1\n",
    "\n",
    "The probability of failing in 2 subjects, P(X=2) = 0.07\n",
    "\n",
    "The probability of failing in 3 subjects, P(X=3) = 0.03\n",
    "\n",
    "The probability distribution can be shown as:\n",
    "\n",
    "    "
   ]
  },
  {
   "cell_type": "code",
   "execution_count": 15,
   "metadata": {},
   "outputs": [
    {
     "data": {
      "text/html": [
       "<div>\n",
       "<style scoped>\n",
       "    .dataframe tbody tr th:only-of-type {\n",
       "        vertical-align: middle;\n",
       "    }\n",
       "\n",
       "    .dataframe tbody tr th {\n",
       "        vertical-align: top;\n",
       "    }\n",
       "\n",
       "    .dataframe thead th {\n",
       "        text-align: right;\n",
       "    }\n",
       "</style>\n",
       "<table border=\"1\" class=\"dataframe\">\n",
       "  <thead>\n",
       "    <tr style=\"text-align: right;\">\n",
       "      <th></th>\n",
       "      <th>X</th>\n",
       "      <th>P(X)</th>\n",
       "    </tr>\n",
       "  </thead>\n",
       "  <tbody>\n",
       "    <tr>\n",
       "      <th>0</th>\n",
       "      <td>0</td>\n",
       "      <td>0.80</td>\n",
       "    </tr>\n",
       "    <tr>\n",
       "      <th>1</th>\n",
       "      <td>1</td>\n",
       "      <td>0.10</td>\n",
       "    </tr>\n",
       "    <tr>\n",
       "      <th>2</th>\n",
       "      <td>2</td>\n",
       "      <td>0.07</td>\n",
       "    </tr>\n",
       "    <tr>\n",
       "      <th>3</th>\n",
       "      <td>3</td>\n",
       "      <td>0.03</td>\n",
       "    </tr>\n",
       "  </tbody>\n",
       "</table>\n",
       "</div>"
      ],
      "text/plain": [
       "   X  P(X)\n",
       "0  0  0.80\n",
       "1  1  0.10\n",
       "2  2  0.07\n",
       "3  3  0.03"
      ]
     },
     "execution_count": 15,
     "metadata": {},
     "output_type": "execute_result"
    }
   ],
   "source": [
    "import pandas as pd\n",
    "\n",
    "X = pd.DataFrame([0, 1, 2, 3])\n",
    "X.columns = ['X']\n",
    "prob_X = pd.DataFrame([0.8, 0.1, 0.07, 0.03])\n",
    "prob_X.columns = ['P(X)']\n",
    "X.join(prob_X)"
   ]
  },
  {
   "cell_type": "markdown",
   "metadata": {},
   "source": [
    "Task 2:"
   ]
  },
  {
   "cell_type": "markdown",
   "metadata": {},
   "source": [
    "1. A test is conducted which is consisting of 20 MCQs (multiple choices questions) with every\n",
    "MCQ having its four options out of which only one is correct. Determine the probability that a\n",
    "person undertaking that test has answered exactly 5 questions wrong.\n",
    "\n",
    "\n"
   ]
  },
  {
   "cell_type": "code",
   "execution_count": 1,
   "metadata": {},
   "outputs": [
    {
     "name": "stdout",
     "output_type": "stream",
     "text": [
      "Probablity of 5 questions wrong in 20 Trials= 0.000003426\n"
     ]
    }
   ],
   "source": [
    "import math\n",
    "\n",
    "# Binomial Distribution\n",
    "\n",
    "# number of trials (n)\n",
    "n=20\n",
    "#number of success events(r)\n",
    "r=15\n",
    "#Probablity of getting success (P)\n",
    "P=.25\n",
    "# Probablity of failure q=(1-P)\n",
    "q=.75\n",
    "\n",
    "# Probablity of 5 questions wrong in 20 Trials = Probablity of 15 questions right in 20 Trials \n",
    "\n",
    "# Probablity of r successes in n Trials = (n!/ ((n-r)! * r!))*(P)^r*(1-P)^n-r \n",
    "\n",
    "print (\"Probablity of 5 questions wrong in 20 Trials= %.9f\"%(math.factorial(n)/(math.factorial(n-r)*math.factorial(r)) *(P**r)*(q)**(n-r) ))\n"
   ]
  },
  {
   "cell_type": "markdown",
   "metadata": {},
   "source": [
    "2. A die marked A to E is rolled 50 times. Find the probability of getting a “D” exactly 5 times.\n"
   ]
  },
  {
   "cell_type": "code",
   "execution_count": 2,
   "metadata": {},
   "outputs": [
    {
     "name": "stdout",
     "output_type": "stream",
     "text": [
      "Probablity of 5times 'D' in 50 Trials= 0.029531\n"
     ]
    }
   ],
   "source": [
    "import math\n",
    "\n",
    "# Binomial Distribution\n",
    "\n",
    "# number of trials (n)\n",
    "n=50\n",
    "#number of success events(r)\n",
    "r=5\n",
    "#Probablity of getting success (P)\n",
    "P=.2\n",
    "# Probablity of failure q=(1-P)\n",
    "q=.8\n",
    "\n",
    "# Probablity of  exactly 5 times\"D\" in 50 Trials  \n",
    "\n",
    "# Probablity of r successes in n Trials = (n!/ ((n-r)! * r!))*(P)^r*(1-P)^n-r \n",
    "\n",
    "print (\"Probablity of 5times 'D' in 50 Trials= %.6f\"%(   math.factorial(n)/(math.factorial(n-r)*math.factorial(r)) *(P**r)*(q)**(n-r) ))\n"
   ]
  },
  {
   "cell_type": "markdown",
   "metadata": {},
   "source": [
    "\n",
    "3. Two balls are drawn at random in succession without replacement from an urn containing 4\n",
    "red balls and 6 black balls.\n",
    "\n",
    "Find the probabilities of all the possible outcomes."
   ]
  },
  {
   "cell_type": "code",
   "execution_count": 16,
   "metadata": {},
   "outputs": [
    {
     "name": "stdout",
     "output_type": "stream",
     "text": [
      "Probablity of getting 2 Red Balls(R,R)= 0.13\n",
      "Probablity of getting 2 Black Balls(B,B)= 0.33\n",
      "Probablity of getting 1 Red and 1 Black (R,B)= 0.27\n",
      "Probablity of getting 1 Black and 1 Red(B,R)= 0.27\n"
     ]
    }
   ],
   "source": [
    "print(\"Probablity of getting 2 Red Balls(R,R)= %.2f\" %((4/10)* (3/9)))\n",
    "print(\"Probablity of getting 2 Black Balls(B,B)= %.2f\" %((6/10)* (5/9)))\n",
    "print(\"Probablity of getting 1 Red and 1 Black (R,B)= %.2f\" %((4/10)* (6/9)))\n",
    "print(\"Probablity of getting 1 Black and 1 Red(B,R)= %.2f\" %((6/10)* (4/9)))"
   ]
  }
 ],
 "metadata": {
  "kernelspec": {
   "display_name": "Python 3",
   "language": "python",
   "name": "python3"
  },
  "language_info": {
   "codemirror_mode": {
    "name": "ipython",
    "version": 3
   },
   "file_extension": ".py",
   "mimetype": "text/x-python",
   "name": "python",
   "nbconvert_exporter": "python",
   "pygments_lexer": "ipython3",
   "version": "3.6.5"
  }
 },
 "nbformat": 4,
 "nbformat_minor": 2
}
